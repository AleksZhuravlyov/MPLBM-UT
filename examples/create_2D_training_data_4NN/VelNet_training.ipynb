{
 "cells": [
  {
   "cell_type": "markdown",
   "metadata": {
    "colab_type": "text",
    "id": "view-in-github"
   },
   "source": [
    "<a href=\"https://colab.research.google.com/github/je-santos/MPLBM-UT/blob/master/examples/create_2D_training_data_4NN/VelNet_training.ipynb\" target=\"_parent\"><img src=\"https://colab.research.google.com/assets/colab-badge.svg\" alt=\"Open In Colab\"/></a>"
   ]
  },
  {
   "cell_type": "markdown",
   "metadata": {},
   "source": [
    "# Vel-net\n",
    "--------------\n",
    "## Table of contents\n",
    "- Libraries and examples\n",
    "- Data visualization\n",
    "- Data analysis\n",
    "- Simplier methods: Linear regression\n",
    "- Intro to NN: parabolic profile\n",
    "- Intro to convnets"
   ]
  },
  {
   "cell_type": "code",
   "execution_count": 14,
   "metadata": {
    "cellView": "form",
    "colab": {},
    "colab_type": "code",
    "id": "odlcm3Jmuglm"
   },
   "outputs": [
    {
     "name": "stdout",
     "output_type": "stream",
     "text": [
      "Collecting git+https://github.com/je-santos/livelossplot\n",
      "  Cloning https://github.com/je-santos/livelossplot to c:\\users\\jae3287\\appdata\\local\\temp\\pip-req-build-t_r48vr4\n",
      "Requirement already satisfied (use --upgrade to upgrade): livelossplot==0.5.0 from git+https://github.com/je-santos/livelossplot in c:\\users\\jae3287\\anaconda3\\envs\\tf\\lib\\site-packages\n",
      "Requirement already satisfied: ipython in c:\\users\\jae3287\\anaconda3\\envs\\tf\\lib\\site-packages (from livelossplot==0.5.0) (7.17.0)\n",
      "Requirement already satisfied: matplotlib in c:\\users\\jae3287\\anaconda3\\envs\\tf\\lib\\site-packages (from livelossplot==0.5.0) (3.3.1)\n",
      "Requirement already satisfied: bokeh in c:\\users\\jae3287\\anaconda3\\envs\\tf\\lib\\site-packages (from livelossplot==0.5.0) (2.1.1)\n",
      "Requirement already satisfied: traitlets>=4.2 in c:\\users\\jae3287\\anaconda3\\envs\\tf\\lib\\site-packages (from ipython->livelossplot==0.5.0) (4.3.3)\n",
      "Requirement already satisfied: decorator in c:\\users\\jae3287\\anaconda3\\envs\\tf\\lib\\site-packages (from ipython->livelossplot==0.5.0) (4.4.2)\n",
      "Requirement already satisfied: colorama; sys_platform == \"win32\" in c:\\users\\jae3287\\anaconda3\\envs\\tf\\lib\\site-packages (from ipython->livelossplot==0.5.0) (0.4.3)\n",
      "Requirement already satisfied: pygments in c:\\users\\jae3287\\anaconda3\\envs\\tf\\lib\\site-packages (from ipython->livelossplot==0.5.0) (2.6.1)\n",
      "Requirement already satisfied: jedi>=0.10 in c:\\users\\jae3287\\anaconda3\\envs\\tf\\lib\\site-packages (from ipython->livelossplot==0.5.0) (0.17.1)\n",
      "Requirement already satisfied: prompt-toolkit!=3.0.0,!=3.0.1,<3.1.0,>=2.0.0 in c:\\users\\jae3287\\anaconda3\\envs\\tf\\lib\\site-packages (from ipython->livelossplot==0.5.0) (3.0.5)\n",
      "Requirement already satisfied: setuptools>=18.5 in c:\\users\\jae3287\\appdata\\roaming\\python\\python37\\site-packages (from ipython->livelossplot==0.5.0) (46.4.0)\n",
      "Requirement already satisfied: pickleshare in c:\\users\\jae3287\\anaconda3\\envs\\tf\\lib\\site-packages (from ipython->livelossplot==0.5.0) (0.7.5)\n",
      "Requirement already satisfied: backcall in c:\\users\\jae3287\\anaconda3\\envs\\tf\\lib\\site-packages (from ipython->livelossplot==0.5.0) (0.2.0)\n",
      "Requirement already satisfied: python-dateutil>=2.1 in c:\\users\\jae3287\\anaconda3\\envs\\tf\\lib\\site-packages (from matplotlib->livelossplot==0.5.0) (2.8.1)\n",
      "Requirement already satisfied: pyparsing!=2.0.4,!=2.1.2,!=2.1.6,>=2.0.3 in c:\\users\\jae3287\\anaconda3\\envs\\tf\\lib\\site-packages (from matplotlib->livelossplot==0.5.0) (2.4.7)\n",
      "Requirement already satisfied: cycler>=0.10 in c:\\users\\jae3287\\anaconda3\\envs\\tf\\lib\\site-packages (from matplotlib->livelossplot==0.5.0) (0.10.0)\n",
      "Requirement already satisfied: kiwisolver>=1.0.1 in c:\\users\\jae3287\\anaconda3\\envs\\tf\\lib\\site-packages (from matplotlib->livelossplot==0.5.0) (1.2.0)\n",
      "Requirement already satisfied: certifi>=2020.06.20 in c:\\users\\jae3287\\anaconda3\\envs\\tf\\lib\\site-packages (from matplotlib->livelossplot==0.5.0) (2020.6.20)\n",
      "Requirement already satisfied: numpy>=1.15 in c:\\users\\jae3287\\appdata\\roaming\\python\\python37\\site-packages (from matplotlib->livelossplot==0.5.0) (1.18.4)\n",
      "Requirement already satisfied: pillow>=6.2.0 in c:\\users\\jae3287\\anaconda3\\envs\\tf\\lib\\site-packages (from matplotlib->livelossplot==0.5.0) (7.2.0)\n",
      "Requirement already satisfied: packaging>=16.8 in c:\\users\\jae3287\\anaconda3\\envs\\tf\\lib\\site-packages (from bokeh->livelossplot==0.5.0) (20.4)\n",
      "Requirement already satisfied: PyYAML>=3.10 in c:\\users\\jae3287\\anaconda3\\envs\\tf\\lib\\site-packages (from bokeh->livelossplot==0.5.0) (5.3.1)\n",
      "Requirement already satisfied: Jinja2>=2.7 in c:\\users\\jae3287\\anaconda3\\envs\\tf\\lib\\site-packages (from bokeh->livelossplot==0.5.0) (2.11.2)\n",
      "Requirement already satisfied: typing-extensions>=3.7.4 in c:\\users\\jae3287\\anaconda3\\envs\\tf\\lib\\site-packages (from bokeh->livelossplot==0.5.0) (3.7.4.2)\n",
      "Requirement already satisfied: tornado>=5.1 in c:\\users\\jae3287\\anaconda3\\envs\\tf\\lib\\site-packages (from bokeh->livelossplot==0.5.0) (6.0.4)\n",
      "Requirement already satisfied: six in c:\\users\\jae3287\\appdata\\roaming\\python\\python37\\site-packages (from traitlets>=4.2->ipython->livelossplot==0.5.0) (1.14.0)\n",
      "Requirement already satisfied: ipython-genutils in c:\\users\\jae3287\\anaconda3\\envs\\tf\\lib\\site-packages (from traitlets>=4.2->ipython->livelossplot==0.5.0) (0.2.0)\n",
      "Requirement already satisfied: parso<0.8.0,>=0.7.0 in c:\\users\\jae3287\\anaconda3\\envs\\tf\\lib\\site-packages (from jedi>=0.10->ipython->livelossplot==0.5.0) (0.7.0)\n",
      "Requirement already satisfied: wcwidth in c:\\users\\jae3287\\anaconda3\\envs\\tf\\lib\\site-packages (from prompt-toolkit!=3.0.0,!=3.0.1,<3.1.0,>=2.0.0->ipython->livelossplot==0.5.0) (0.2.5)\n",
      "Requirement already satisfied: MarkupSafe>=0.23 in c:\\users\\jae3287\\anaconda3\\envs\\tf\\lib\\site-packages (from Jinja2>=2.7->bokeh->livelossplot==0.5.0) (1.1.1)\n",
      "Building wheels for collected packages: livelossplot\n",
      "  Building wheel for livelossplot (setup.py): started\n",
      "  Building wheel for livelossplot (setup.py): finished with status 'done'\n",
      "  Created wheel for livelossplot: filename=livelossplot-0.5.0-py3-none-any.whl size=20505 sha256=35b2f9d7c68851a9a393f41dcbd2f2c6903537c198a6400bd54fafd3ca22af63\n",
      "  Stored in directory: C:\\Users\\jae3287\\AppData\\Local\\Temp\\pip-ephem-wheel-cache-qjane7_v\\wheels\\d1\\85\\7f\\91c563589b9efae46dcb114d7983ea917ecaa1f37efb85023c\n",
      "Successfully built livelossplot\n"
     ]
    },
    {
     "name": "stderr",
     "output_type": "stream",
     "text": [
      "Cloning into 'PoreFlow-Net'...\n",
      "'mv' is not recognized as an internal or external command,\n",
      "operable program or batch file.\n"
     ]
    }
   ],
   "source": [
    "#@title Importing libraries and downloading data\n",
    "#%%capture\n",
    "\n",
    "!pip install git+https://github.com/je-santos/livelossplot\n",
    "\n",
    "import os\n",
    "import sys\n",
    "import random\n",
    "\n",
    "# Importing the numerical and viz libs\n",
    "import numpy as np\n",
    "import matplotlib.pyplot as plt\n",
    "\n",
    "# Importing utilities libs \n",
    "import glob\n",
    "from PIL import Image\n",
    "\n",
    "# Importing the ML libs\n",
    "import sklearn\n",
    "import tensorflow as tf\n",
    "from tensorflow import keras\n",
    "\n",
    "from livelossplot import PlotLossesKeras\n",
    "from livelossplot.plot_losses  import MatplotlibPlot\n",
    "    \n",
    "import warnings\n",
    "warnings.simplefilter(\"ignore\")\n",
    "\n",
    "try:\n",
    "  os.mkdir('numpys')\n",
    "except:\n",
    "  pass \n",
    "\n",
    "\n",
    "!git clone https://github.com/je-santos/PoreFlow-Net.git\n",
    "!mv PoreFlow-Net/ilustrations/numpys.zip numpys/numpys.zip\n",
    "os.chdir('numpys')\n",
    "\n",
    "\n",
    "from zipfile import ZipFile\n",
    "with ZipFile('numpys.zip', 'r') as zipObj:\n",
    "   # Extract all the contents of zip file in current directory\n",
    "   zipObj.extractall()\n",
    "os.chdir('..')\n"
   ]
  }
 ],
 "metadata": {
  "accelerator": "GPU",
  "colab": {
   "collapsed_sections": [],
   "include_colab_link": true,
   "name": "MPLBM-UT_training_Neural_Nets.ipynb",
   "private_outputs": true,
   "provenance": []
  },
  "kernelspec": {
   "display_name": "Python 3",
   "language": "python",
   "name": "python3"
  },
  "language_info": {
   "codemirror_mode": {
    "name": "ipython",
    "version": 3
   },
   "file_extension": ".py",
   "mimetype": "text/x-python",
   "name": "python",
   "nbconvert_exporter": "python",
   "pygments_lexer": "ipython3",
   "version": "3.7.7"
  }
 },
 "nbformat": 4,
 "nbformat_minor": 1
}
