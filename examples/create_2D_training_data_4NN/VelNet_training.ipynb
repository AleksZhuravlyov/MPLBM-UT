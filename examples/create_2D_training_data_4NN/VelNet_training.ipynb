{
 "cells": [
  {
   "cell_type": "markdown",
   "metadata": {
    "colab_type": "text",
    "id": "view-in-github"
   },
   "source": [
    "<a href=\"https://colab.research.google.com/github/je-santos/MPLBM-UT/blob/master/examples/create_2D_training_data_4NN/VelNet_training.ipynb\" target=\"_parent\"><img src=\"https://colab.research.google.com/assets/colab-badge.svg\" alt=\"Open In Colab\"/></a>"
   ]
  },
  {
   "cell_type": "markdown",
   "metadata": {},
   "source": [
    "# Vel-net\n",
    "--------------\n",
    "## Table of contents\n",
    "- Libraries and examples\n",
    "- Data visualization\n",
    "- Data analysis\n",
    "- Simplier methods: Linear regression\n",
    "- Intro to NN: parabolic profile\n",
    "- Intro to convnets"
   ]
  },
  {
   "cell_type": "code",
   "execution_count": null,
   "metadata": {
    "cellView": "form",
    "colab": {},
    "colab_type": "code",
    "id": "odlcm3Jmuglm"
   },
   "outputs": [],
   "source": [
    "#@title Importing libraries and downloading data\n",
    "\n",
    "!pip install git+https://github.com/je-santos/livelossplot\n",
    "\n",
    "import os\n",
    "import sys\n",
    "import random\n",
    "\n",
    "# Importing the numerical and viz libs\n",
    "import numpy as np\n",
    "import matplotlib.pyplot as plt\n",
    "\n",
    "# Importing utilities libs \n",
    "import glob\n",
    "from PIL import Image\n",
    "\n",
    "# Importing the ML libs\n",
    "import sklearn\n",
    "import tensorflow as tf\n",
    "from tensorflow import keras\n",
    "\n",
    "from livelossplot import PlotLossesKeras\n",
    "from livelossplot.plot_losses  import MatplotlibPlot\n",
    "    \n",
    "import warnings\n",
    "warnings.simplefilter(\"ignore\")\n",
    "\n",
    "\n",
    "import gdown\n",
    "url='https://drive.google.com/file/d/16m_6dpebJSSi9MAGRno4xKKFwV-Kq9oK'\n",
    "try:\n",
    "    os.mkdir('numpys')\n",
    "except:\n",
    "    print('The directory already exists')\n",
    "output = 'numpys/numpys1.zip'\n",
    "#gdown.download(url, output, quiet=False)\n",
    "#!gdown --id url \n",
    "\n",
    "#from zipfile import ZipFile\n",
    "#with ZipFile(output, 'r') as zipObj:\n",
    "#   # Extract all the contents of zip file in current directory\n",
    "#   zipObj.extractall()\n"
   ]
  },
  {
   "cell_type": "code",
   "execution_count": null,
   "metadata": {},
   "outputs": [],
   "source": []
  },
  {
   "cell_type": "code",
   "execution_count": null,
   "metadata": {},
   "outputs": [],
   "source": []
  }
 ],
 "metadata": {
  "accelerator": "GPU",
  "colab": {
   "collapsed_sections": [],
   "include_colab_link": true,
   "name": "MPLBM-UT_training_Neural_Nets.ipynb",
   "private_outputs": true,
   "provenance": []
  },
  "kernelspec": {
   "display_name": "Python 3",
   "language": "python",
   "name": "python3"
  },
  "language_info": {
   "codemirror_mode": {
    "name": "ipython",
    "version": 3
   },
   "file_extension": ".py",
   "mimetype": "text/x-python",
   "name": "python",
   "nbconvert_exporter": "python",
   "pygments_lexer": "ipython3",
   "version": "3.7.7"
  }
 },
 "nbformat": 4,
 "nbformat_minor": 1
}
